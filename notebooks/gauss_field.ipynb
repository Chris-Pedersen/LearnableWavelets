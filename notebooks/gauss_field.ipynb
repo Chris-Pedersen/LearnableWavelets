{
 "cells": [
  {
   "cell_type": "code",
   "execution_count": 4,
   "metadata": {},
   "outputs": [
    {
     "name": "stdout",
     "output_type": "stream",
     "text": [
      "[[0.         0.00195312 0.00390625 ... 0.49609375 0.49804688 0.5       ]\n",
      " [0.00195312 0.00276214 0.00436732 ... 0.49609759 0.4980507  0.50000381]\n",
      " [0.00390625 0.00436732 0.00552427 ... 0.49610913 0.49806219 0.50001526]\n",
      " ...\n",
      " [0.00585938 0.00617632 0.00704209 ... 0.49612835 0.49808134 0.50003433]\n",
      " [0.00390625 0.00436732 0.00552427 ... 0.49610913 0.49806219 0.50001526]\n",
      " [0.00195312 0.00276214 0.00436732 ... 0.49609759 0.4980507  0.50000381]]\n"
     ]
    },
    {
     "name": "stderr",
     "output_type": "stream",
     "text": [
      "<ipython-input-4-400e8e45d663>:17: RuntimeWarning: divide by zero encountered in power\n",
      "  return np.power(k, -n)\n"
     ]
    }
   ],
   "source": [
    "from FyeldGenerator import generate_field\n",
    "\n",
    "from matplotlib import use\n",
    "use('Agg')\n",
    "\n",
    "import matplotlib.pyplot as plt\n",
    "import numpy as np\n",
    "\n",
    "\n",
    "\n",
    "plt.figure()\n",
    "\n",
    "# Helper that generates power-law power spectrum\n",
    "def Pkgen(n):\n",
    "    def Pk(k):\n",
    "        print(k)\n",
    "        return np.power(k, -n)\n",
    "\n",
    "    return Pk\n",
    "\n",
    "# Draw samples from a normal distribution\n",
    "def distrib(shape):\n",
    "    a = np.random.normal(loc=0, scale=1, size=shape)\n",
    "    b = np.random.normal(loc=0, scale=1, size=shape)\n",
    "    return a + 1j * b\n",
    "\n",
    "\n",
    "shape = (512, 512)\n",
    "\n",
    "field = generate_field(distrib, Pkgen(2), shape)\n",
    "\n",
    "plt.imshow(field, cmap='jet')\n",
    "\n",
    "plt.savefig('field.png',dpi=400)\n",
    "plt.close()"
   ]
  },
  {
   "cell_type": "code",
   "execution_count": 5,
   "metadata": {},
   "outputs": [
    {
     "name": "stderr",
     "output_type": "stream",
     "text": [
      "<ipython-input-5-a37bd22d9ba6>:8: RuntimeWarning: divide by zero encountered in power\n",
      "  return np.power(k, -n)\n"
     ]
    },
    {
     "data": {
      "text/plain": [
       "<matplotlib.image.AxesImage at 0x7fd8722eb1c0>"
      ]
     },
     "execution_count": 5,
     "metadata": {},
     "output_type": "execute_result"
    }
   ],
   "source": [
    "from FyeldGenerator import generate_field\n",
    "import matplotlib.pyplot as plt\n",
    "import numpy as np\n",
    "\n",
    "# Helper that generates power-law power spectrum\n",
    "def Pkgen(n):\n",
    "    def Pk(k):\n",
    "        return np.power(k, -n)\n",
    "\n",
    "    return Pk\n",
    "\n",
    "# Draw samples from a normal distribution\n",
    "def distrib(shape):\n",
    "    a = np.random.normal(loc=0, scale=1, size=shape)\n",
    "    b = np.random.normal(loc=0, scale=1, size=shape)\n",
    "    return a + 1j * b\n",
    "\n",
    "\n",
    "shape = (512, 512)\n",
    "\n",
    "field = generate_field(distrib, Pkgen(2), shape)\n",
    "\n",
    "plt.imshow(field, cmap='seismic')"
   ]
  },
  {
   "cell_type": "code",
   "execution_count": null,
   "metadata": {},
   "outputs": [],
   "source": []
  }
 ],
 "metadata": {
  "kernelspec": {
   "display_name": "Python 3",
   "language": "python",
   "name": "python3"
  },
  "language_info": {
   "codemirror_mode": {
    "name": "ipython",
    "version": 3
   },
   "file_extension": ".py",
   "mimetype": "text/x-python",
   "name": "python",
   "nbconvert_exporter": "python",
   "pygments_lexer": "ipython3",
   "version": "3.8.8"
  }
 },
 "nbformat": 4,
 "nbformat_minor": 4
}
