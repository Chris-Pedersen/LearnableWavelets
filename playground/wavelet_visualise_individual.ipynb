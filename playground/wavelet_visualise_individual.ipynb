{
 "cells": [
  {
   "cell_type": "markdown",
   "metadata": {},
   "source": [
    "## Visualise wavelet filter\n",
    "\n",
    "Just want to create a simple notebook to plot a wavelet for a given set of parameters. The wavelets are generated in `scattering2d/filter_bank.py`, which is called by the various interfaces in `frontend` which provide functions to perform the convolutions with an input field easily.\n",
    "\n",
    "Here let's just plot the filters, where another notebook can look at showing the convolved fields."
   ]
  },
  {
   "cell_type": "code",
   "execution_count": 1,
   "metadata": {},
   "outputs": [],
   "source": [
    "from kymatio.numpy import Scattering2D\n",
    "from kymatio.scattering2d.filter_bank import morlet_2d\n",
    "from kymatio.scattering2d.utils import fft2\n",
    "import numpy as np\n",
    "import matplotlib.pyplot as plt\n",
    "\n",
    "from numpy import pi\n",
    "import pylab as plt\n",
    "from colorsys import hls_to_rgb"
   ]
  },
  {
   "cell_type": "code",
   "execution_count": 2,
   "metadata": {},
   "outputs": [],
   "source": [
    "## Function to plot complex arrays using imshow\n",
    "## https://stackoverflow.com/questions/17044052/matplotlib-imshow-complex-2d-array\n",
    "def colorize(z):\n",
    "    r = np.abs(z)\n",
    "    arg = np.angle(z) \n",
    "\n",
    "    h = (arg + pi)  / (2 * pi) + 0.5\n",
    "    l = 1.0 - 1.0/(1.0 + r**0.3)\n",
    "    s = 0.8\n",
    "\n",
    "    c = np.vectorize(hls_to_rgb) (h,l,s) # --> tuple\n",
    "    c = np.array(c)  # -->  array of (3,n,m) shape, but need (n,m,3)\n",
    "    c = c.swapaxes(0,2) \n",
    "    return c"
   ]
  },
  {
   "cell_type": "code",
   "execution_count": 3,
   "metadata": {},
   "outputs": [],
   "source": [
    "test_filter=morlet_2d(M=128,N=128,sigma=3,theta=1,xi=0.5,slant=0.5)"
   ]
  },
  {
   "cell_type": "code",
   "execution_count": 4,
   "metadata": {},
   "outputs": [
    {
     "data": {
      "text/plain": [
       "array([[ 5.9715593e-03+3.2938798e-11j,  4.9795890e-03+3.4580815e-03j,\n",
       "         2.5400606e-03+5.5424380e-03j, ...,\n",
       "        -1.2527721e-04-5.7008723e-03j,  2.5400606e-03-5.5424380e-03j,\n",
       "         4.9795890e-03-3.4580815e-03j],\n",
       "       [ 5.5055399e-03+2.2990971e-03j,  3.5424992e-03+5.0610043e-03j,\n",
       "         7.9593877e-04+6.0182307e-03j, ...,\n",
       "         1.4520427e-03-5.4677567e-03j,  4.0352945e-03-4.2244066e-03j,\n",
       "         5.6891032e-03-1.2852649e-03j],\n",
       "       [ 4.2456966e-03+4.0982608e-03j,  1.7540045e-03+5.7976213e-03j,\n",
       "        -7.8712369e-04+5.6532822e-03j, ...,\n",
       "         2.8822278e-03-4.4720257e-03j,  4.9126260e-03-2.3118774e-03j,\n",
       "         5.4989271e-03+9.8161609e-04j],\n",
       "       ...,\n",
       "       [ 2.5494630e-03-5.0679059e-03j,  4.5046685e-03-2.8506841e-03j,\n",
       "         4.9807462e-03+2.2888328e-04j, ...,\n",
       "        -2.7115527e-03-2.9504122e-03j, -1.9002953e-03-4.6686819e-03j,\n",
       "         5.0596776e-05-5.6361374e-03j],\n",
       "       [ 4.2456966e-03-4.0982608e-03j,  5.4989271e-03-9.8161609e-04j,\n",
       "         4.9126260e-03+2.3118774e-03j, ...,\n",
       "        -2.3807595e-03-4.1803084e-03j, -7.8712369e-04-5.6532822e-03j,\n",
       "         1.7540045e-03-5.7976213e-03j],\n",
       "       [ 5.5055399e-03-2.2990971e-03j,  5.6891032e-03+1.2852649e-03j,\n",
       "         4.0352945e-03+4.2244066e-03j, ...,\n",
       "        -1.4893063e-03-5.1994603e-03j,  7.9593877e-04-6.0182307e-03j,\n",
       "         3.5424992e-03-5.0610043e-03j]], dtype=complex64)"
      ]
     },
     "execution_count": 4,
     "metadata": {},
     "output_type": "execute_result"
    }
   ],
   "source": [
    "test_filter"
   ]
  },
  {
   "cell_type": "code",
   "execution_count": 5,
   "metadata": {},
   "outputs": [
    {
     "data": {
      "text/plain": [
       "<matplotlib.image.AxesImage at 0x7fac8b8bcbb0>"
      ]
     },
     "execution_count": 5,
     "metadata": {},
     "output_type": "execute_result"
    },
    {
     "data": {
      "image/png": "[encoded data removed]",
      "text/plain": [
       "<Figure size 720x720 with 1 Axes>"
      ]
     },
     "metadata": {
      "needs_background": "light"
     },
     "output_type": "display_data"
    }
   ],
   "source": [
    "test_filter=morlet_2d(M=128,N=128,sigma=12,theta=1,xi=0.1,slant=1.0)\n",
    "filter_c = fft2(test_filter)\n",
    "filter_c = np.fft.fftshift(filter_c)\n",
    "plt.figure(figsize=(10,10))\n",
    "plt.imshow(colorize(filter_c))"
   ]
  },
  {
   "cell_type": "code",
   "execution_count": 6,
   "metadata": {},
   "outputs": [
    {
     "data": {
      "text/plain": [
       "array([[0.00056728, 0.00056142, 0.00054406, ..., 0.00051587, 0.00054406,\n",
       "        0.00056142],\n",
       "       [0.00056371, 0.00055289, 0.00053078, ..., 0.00052698, 0.00055043,\n",
       "        0.00056286],\n",
       "       [0.0005531 , 0.00053751, 0.00051095, ..., 0.00053125, 0.00054979,\n",
       "        0.00055721],\n",
       "       ...,\n",
       "       [0.00053578, 0.00054468, 0.00054222, ..., 0.00044497, 0.00048511,\n",
       "        0.00051572],\n",
       "       [0.0005531 , 0.00055721, 0.00054979, ..., 0.00047433, 0.00051095,\n",
       "        0.00053751],\n",
       "       [0.00056371, 0.00056286, 0.00055043, ..., 0.00049818, 0.00053078,\n",
       "        0.00055289]], dtype=float32)"
      ]
     },
     "execution_count": 6,
     "metadata": {},
     "output_type": "execute_result"
    }
   ],
   "source": [
    "test_filter.real"
   ]
  },
  {
   "cell_type": "code",
   "execution_count": 7,
   "metadata": {},
   "outputs": [],
   "source": [
    "scattering = Scattering2D(J=2, shape=(32, 32))"
   ]
  },
  {
   "cell_type": "code",
   "execution_count": null,
   "metadata": {},
   "outputs": [],
   "source": [
    "test_array=np.ones((32,32))-0.9"
   ]
  },
  {
   "cell_type": "code",
   "execution_count": null,
   "metadata": {},
   "outputs": [],
   "source": [
    "scattered=scattering(test_array)"
   ]
  },
  {
   "cell_type": "code",
   "execution_count": null,
   "metadata": {},
   "outputs": [],
   "source": [
    "np.shape(scattered[0])"
   ]
  },
  {
   "cell_type": "code",
   "execution_count": null,
   "metadata": {},
   "outputs": [],
   "source": [
    "plt.imshow(scattered[0])\n",
    "plt.colorbar()"
   ]
  },
  {
   "cell_type": "code",
   "execution_count": null,
   "metadata": {},
   "outputs": [],
   "source": [
    "scattered[0]"
   ]
  },
  {
   "cell_type": "code",
   "execution_count": null,
   "metadata": {},
   "outputs": [],
   "source": []
  }
 ],
 "metadata": {
  "kernelspec": {
   "display_name": "Python 3",
   "language": "python",
   "name": "python3"
  },
  "language_info": {
   "codemirror_mode": {
    "name": "ipython",
    "version": 3
   },
   "file_extension": ".py",
   "mimetype": "text/x-python",
   "name": "python",
   "nbconvert_exporter": "python",
   "pygments_lexer": "ipython3",
   "version": "3.8.7"
  }
 },
 "nbformat": 4,
 "nbformat_minor": 4
}
