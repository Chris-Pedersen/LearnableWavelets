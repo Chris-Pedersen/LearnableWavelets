{
 "cells": [
  {
   "cell_type": "markdown",
   "id": "28ab40c7-26da-4e9b-ad03-7a42a60f31d8",
   "metadata": {},
   "source": [
    "## Refactor wavelet initialisation\n",
    "\n",
    "Notebook to play around with classes and objects during the great Kymatio refactor of 2022"
   ]
  },
  {
   "cell_type": "code",
   "execution_count": 16,
   "id": "0533f7f1-4ff1-438b-892a-678d5ede6a1c",
   "metadata": {},
   "outputs": [],
   "source": [
    "from sn_camels.scattering import kymat_code\n",
    "import numpy as np\n",
    "import torch"
   ]
  },
  {
   "cell_type": "code",
   "execution_count": 17,
   "id": "3b67cd39-f340-4035-b1d8-e1b0bddb2877",
   "metadata": {},
   "outputs": [],
   "source": [
    "test_ones=np.ones((5,5))"
   ]
  },
  {
   "cell_type": "code",
   "execution_count": 19,
   "id": "be69e2a0-5a2b-4dcc-bfd6-e06c4c9b7bed",
   "metadata": {},
   "outputs": [
    {
     "data": {
      "text/plain": [
       "5"
      ]
     },
     "execution_count": 19,
     "metadata": {},
     "output_type": "execute_result"
    }
   ],
   "source": [
    "len(torch.from_numpy(test_ones).unsqueeze(-1))"
   ]
  },
  {
   "cell_type": "code",
   "execution_count": null,
   "id": "4c04197e-fded-42d4-9744-9839a03ed760",
   "metadata": {},
   "outputs": [],
   "source": []
  },
  {
   "cell_type": "code",
   "execution_count": 7,
   "id": "3d1b3dd5-431c-407a-9cc9-d223ab685c4c",
   "metadata": {},
   "outputs": [],
   "source": [
    "filters=kymat_code.filter_bank(256,256,2,8)\n",
    "psis_straight=kymat_code.get_psis(256,256,2,8)\n",
    "phis_straight=kymat_code.get_phis(256,256,2,8)"
   ]
  },
  {
   "cell_type": "code",
   "execution_count": 4,
   "id": "6126a1ce-d2c5-4d36-ba60-20561b3840cf",
   "metadata": {},
   "outputs": [],
   "source": [
    "phis=filters[\"phi\"]\n",
    "psis=filters[\"psi\"]"
   ]
  },
  {
   "cell_type": "code",
   "execution_count": 23,
   "id": "aaf7f0b5-c7e1-458b-ad42-0f756a8b1a1e",
   "metadata": {},
   "outputs": [
    {
     "data": {
      "text/plain": [
       "array([[1.0000294 , 0.99925864, 0.9969498 , ..., 0.99311364, 0.99694985,\n",
       "        0.99925864],\n",
       "       [0.99925864, 0.9984885 , 0.99618137, ..., 0.99234825, 0.99618137,\n",
       "        0.9984884 ],\n",
       "       [0.99694985, 0.9961814 , 0.99387974, ..., 0.9900553 , 0.9938797 ,\n",
       "        0.99618137],\n",
       "       ...,\n",
       "       [0.9931137 , 0.9923482 , 0.99005544, ..., 0.98624575, 0.99005544,\n",
       "        0.9923482 ],\n",
       "       [0.99694985, 0.9961814 , 0.99387974, ..., 0.9900553 , 0.9938797 ,\n",
       "        0.99618137],\n",
       "       [0.99925864, 0.9984884 , 0.99618137, ..., 0.9923482 , 0.99618137,\n",
       "        0.9984884 ]], dtype=float32)"
      ]
     },
     "execution_count": 23,
     "metadata": {},
     "output_type": "execute_result"
    }
   ],
   "source": [
    "phis[0]"
   ]
  },
  {
   "cell_type": "code",
   "execution_count": 22,
   "id": "d15c49c9-640c-4f58-afab-958e1ae65c65",
   "metadata": {},
   "outputs": [
    {
     "data": {
      "text/plain": [
       "array([[1.0000294 , 0.99925864, 0.9969498 , ..., 0.99311364, 0.99694985,\n",
       "        0.99925864],\n",
       "       [0.99925864, 0.9984885 , 0.99618137, ..., 0.99234825, 0.99618137,\n",
       "        0.9984884 ],\n",
       "       [0.99694985, 0.9961814 , 0.99387974, ..., 0.9900553 , 0.9938797 ,\n",
       "        0.99618137],\n",
       "       ...,\n",
       "       [0.9931137 , 0.9923482 , 0.99005544, ..., 0.98624575, 0.99005544,\n",
       "        0.9923482 ],\n",
       "       [0.99694985, 0.9961814 , 0.99387974, ..., 0.9900553 , 0.9938797 ,\n",
       "        0.99618137],\n",
       "       [0.99925864, 0.9984884 , 0.99618137, ..., 0.9923482 , 0.99618137,\n",
       "        0.9984884 ]], dtype=float32)"
      ]
     },
     "execution_count": 22,
     "metadata": {},
     "output_type": "execute_result"
    }
   ],
   "source": [
    "phis_straight[0]"
   ]
  },
  {
   "cell_type": "code",
   "execution_count": null,
   "id": "6565a55d-e3de-45cc-b7c1-da5f12a01fc5",
   "metadata": {},
   "outputs": [],
   "source": []
  }
 ],
 "metadata": {
  "kernelspec": {
   "display_name": "Python 3 (ipykernel)",
   "language": "python",
   "name": "python3"
  },
  "language_info": {
   "codemirror_mode": {
    "name": "ipython",
    "version": 3
   },
   "file_extension": ".py",
   "mimetype": "text/x-python",
   "name": "python",
   "nbconvert_exporter": "python",
   "pygments_lexer": "ipython3",
   "version": "3.8.10"
  }
 },
 "nbformat": 4,
 "nbformat_minor": 5
}
