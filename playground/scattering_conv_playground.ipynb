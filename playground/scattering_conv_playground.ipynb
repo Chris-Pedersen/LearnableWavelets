{
 "cells": [
  {
   "cell_type": "markdown",
   "metadata": {},
   "source": [
    "## Test script to use during refactor of scattering code\n",
    "\n"
   ]
  },
  {
   "cell_type": "code",
   "execution_count": 1,
   "metadata": {},
   "outputs": [
    {
     "name": "stderr",
     "output_type": "stream",
     "text": [
      "/home/chrisp/.local/lib/python3.8/site-packages/tqdm/auto.py:22: TqdmWarning: IProgress not found. Please update jupyter and ipywidgets. See https://ipywidgets.readthedocs.io/en/stable/user_install.html\n",
      "  from .autonotebook import tqdm as notebook_tqdm\n"
     ]
    }
   ],
   "source": [
    "from sn_camels.models.models_factory import baseModelFactory, topModelFactory\n",
    "from sn_camels.models.sn_hybrid_models import sn_HybridModel\n",
    "from sn_camels.models.camels_models import get_architecture \n",
    "from sn_camels.camels.camels_dataset import *"
   ]
  },
  {
   "cell_type": "code",
   "execution_count": 2,
   "metadata": {},
   "outputs": [
    {
     "name": "stdout",
     "output_type": "stream",
     "text": [
      "CUDA Not Available\n"
     ]
    }
   ],
   "source": [
    "## Check if CUDA available\n",
    "if torch.cuda.is_available():\n",
    "    print(\"CUDA Available\")\n",
    "    device = torch.device('cuda')\n",
    "    use_cuda=True\n",
    "else:\n",
    "    print('CUDA Not Available')\n",
    "    device = torch.device('cpu')\n",
    "    use_cuda=False"
   ]
  },
  {
   "cell_type": "code",
   "execution_count": 3,
   "metadata": {},
   "outputs": [],
   "source": [
    "camels_path=\"/home/chrisp/Data/CAMELs/\"\n",
    "fparams    = camels_path+\"/params_IllustrisTNG.txt\"\n",
    "fmaps      = [\n",
    "              camels_path+\"maps_Mtot.npy\"\n",
    "             ]"
   ]
  },
  {
   "cell_type": "code",
   "execution_count": 4,
   "metadata": {},
   "outputs": [
    {
     "name": "stdout",
     "output_type": "stream",
     "text": [
      "Found 1 channels\n",
      "Reading data...\n",
      "6.054e+09 < F(all|orig) < 2.176e+15\n",
      "9.782 < F(all|resc)  < 15.338\n",
      "-2.696 < F(all|norm) < 8.631\n",
      "Channel 0 contains 7200 maps\n",
      "-2.696 < F < 8.631\n",
      "\n"
     ]
    }
   ],
   "source": [
    "## dataloader options\n",
    "seed=123\n",
    "\n",
    "batch_size=10\n",
    "splits=1\n",
    "fmaps_norm=[None]\n",
    "num_workers=1\n",
    "rot_flip_in_mem=True\n",
    "channels=1\n",
    "features=1\n",
    "\n",
    "train_loader = create_dataset_multifield('train', seed, fmaps, fparams, batch_size, splits, fmaps_norm,\n",
    "                                                 num_workers=num_workers, rot_flip_in_mem=rot_flip_in_mem, verbose=True)"
   ]
  },
  {
   "cell_type": "code",
   "execution_count": 5,
   "metadata": {},
   "outputs": [
    {
     "name": "stdout",
     "output_type": "stream",
     "text": [
      "(256, 256)\n",
      "(128, 128)\n"
     ]
    },
    {
     "name": "stderr",
     "output_type": "stream",
     "text": [
      "/home/chrisp/.local/lib/python3.8/site-packages/torch/functional.py:478: UserWarning: torch.meshgrid: in an upcoming release, it will be required to pass the indexing argument. (Triggered internally at  ../aten/src/ATen/native/TensorShape.cpp:2894.)\n",
      "  return _VF.meshgrid(tensors, **kwargs)  # type: ignore[attr-defined]\n",
      "/home/chrisp/.local/lib/python3.8/site-packages/sn_camels-0.0.1-py3.8.egg/sn_camels/scattering/create_filters.py:283: UserWarning: The use of `x.T` on tensors of dimension other than 2 to reverse their shape is deprecated and it will throw an error in a future release. Consider `x.mT` to transpose batches of matricesor `x.permute(*torch.arange(x.ndim - 1, -1, -1))` to reverse the dimensions of a tensor. (Triggered internally at  ../aten/src/ATen/native/TensorShape.cpp:2981.)\n"
     ]
    },
    {
     "data": {
      "text/plain": [
       "sn_HybridModel(\n",
       "  (scatteringBase): sn_ScatteringBase()\n",
       "  (top): sn_LinearLayer(\n",
       "    (fc1): Linear(in_features=73, out_features=1, bias=True)\n",
       "    (bn0): BatchNorm1d(73, eps=1e-05, momentum=0.1, affine=True, track_running_stats=True)\n",
       "  )\n",
       ")"
      ]
     },
     "execution_count": 5,
     "metadata": {},
     "output_type": "execute_result"
    }
   ],
   "source": [
    "scatteringBase = baseModelFactory( #creat scattering base model\n",
    "    architecture='scattering',\n",
    "    J=2,\n",
    "    N=256,\n",
    "    M=256,\n",
    "    channels=channels,\n",
    "    max_order=2,\n",
    "    initialization=\"Random\",\n",
    "    seed=234,\n",
    "    learnable=True,\n",
    "    lr_orientation=0.03,\n",
    "    lr_scattering=0.03,\n",
    "    skip=True,\n",
    "    split_filters=True,\n",
    "    filter_video=False,\n",
    "    subsample=4,\n",
    "    device=device,\n",
    "    use_cuda=use_cuda,\n",
    "    plot=False\n",
    ")\n",
    "\n",
    "## Now create a network to follow the scattering layers\n",
    "## can be MLP, linear, or cnn at the moment\n",
    "## (as in https://github.com/bentherien/ParametricScatteringNetworks/ )\n",
    "top = topModelFactory( #create cnn, mlp, linear_layer, or other\n",
    "    base=scatteringBase,\n",
    "    architecture=\"linear_layer\",\n",
    "    num_classes=features,\n",
    "    width=3,\n",
    "    average=True,\n",
    "    use_cuda=use_cuda\n",
    ")\n",
    "\n",
    "hybridModel = sn_HybridModel(scatteringBase=scatteringBase, top=top, use_cuda=use_cuda)\n",
    "model=hybridModel\n",
    "model.to(device=device)\n"
   ]
  },
  {
   "cell_type": "code",
   "execution_count": 6,
   "metadata": {},
   "outputs": [
    {
     "data": {
      "text/plain": [
       "(256, 256)"
      ]
     },
     "execution_count": 6,
     "metadata": {},
     "output_type": "execute_result"
    }
   ],
   "source": [
    "scatteringBase.phi[0].shape"
   ]
  },
  {
   "cell_type": "code",
   "execution_count": 7,
   "metadata": {},
   "outputs": [],
   "source": [
    "x,y=next(iter(train_loader))\n",
    "model.to(device=device)\n",
    "x=x.to(device=device)"
   ]
  },
  {
   "cell_type": "code",
   "execution_count": 8,
   "metadata": {},
   "outputs": [
    {
     "ename": "TypeError",
     "evalue": "The input should be complex (i.e. last dimension is 2).",
     "output_type": "error",
     "traceback": [
      "\u001b[0;31m---------------------------------------------------------------------------\u001b[0m",
      "\u001b[0;31mTypeError\u001b[0m                                 Traceback (most recent call last)",
      "Input \u001b[0;32mIn [8]\u001b[0m, in \u001b[0;36m<cell line: 2>\u001b[0;34m()\u001b[0m\n\u001b[1;32m      1\u001b[0m \u001b[38;5;66;03m## Check that we produce the correct shape\u001b[39;00m\n\u001b[0;32m----> 2\u001b[0m \u001b[43mscatteringBase\u001b[49m\u001b[38;5;241;43m.\u001b[39;49m\u001b[43mforward\u001b[49m\u001b[43m(\u001b[49m\u001b[43mx\u001b[49m\u001b[43m)\u001b[49m\u001b[38;5;241m.\u001b[39mshape\n",
      "File \u001b[0;32m~/.local/lib/python3.8/site-packages/sn_camels-0.0.1-py3.8.egg/sn_camels/models/sn_base_models.py:238\u001b[0m, in \u001b[0;36msn_ScatteringBase.forward\u001b[0;34m(self, ip)\u001b[0m\n\u001b[1;32m    235\u001b[0m \u001b[38;5;28;01mif\u001b[39;00m \u001b[38;5;28mself\u001b[39m\u001b[38;5;241m.\u001b[39mscatteringTrain: \u001b[38;5;66;03m#update filters if training\u001b[39;00m\n\u001b[1;32m    236\u001b[0m     \u001b[38;5;28mself\u001b[39m\u001b[38;5;241m.\u001b[39mupdateFilters()\n\u001b[0;32m--> 238\u001b[0m x \u001b[38;5;241m=\u001b[39m \u001b[43mscattering2d\u001b[49m\u001b[38;5;241;43m.\u001b[39;49m\u001b[43mconvolve_fields\u001b[49m\u001b[43m(\u001b[49m\u001b[43mip\u001b[49m\u001b[43m,\u001b[49m\u001b[43m \u001b[49m\u001b[38;5;28;43mself\u001b[39;49m\u001b[38;5;241;43m.\u001b[39;49m\u001b[43mbackend\u001b[49m\u001b[43m,\u001b[49m\u001b[43m \u001b[49m\u001b[38;5;28;43mself\u001b[39;49m\u001b[38;5;241;43m.\u001b[39;49m\u001b[43mJ\u001b[49m\u001b[43m,\u001b[49m\u001b[43m \u001b[49m\u001b[38;5;28;43mself\u001b[39;49m\u001b[38;5;241;43m.\u001b[39;49m\u001b[43mphi\u001b[49m\u001b[43m,\u001b[49m\u001b[43m \u001b[49m\u001b[38;5;28;43mself\u001b[39;49m\u001b[38;5;241;43m.\u001b[39;49m\u001b[43mwavelets\u001b[49m\u001b[43m,\u001b[49m\n\u001b[1;32m    239\u001b[0m \u001b[43m                            \u001b[49m\u001b[38;5;28;43mself\u001b[39;49m\u001b[38;5;241;43m.\u001b[39;49m\u001b[43mmax_order\u001b[49m\u001b[43m,\u001b[49m\u001b[43m \u001b[49m\u001b[38;5;28;43mself\u001b[39;49m\u001b[38;5;241;43m.\u001b[39;49m\u001b[43msplit_filters\u001b[49m\u001b[43m,\u001b[49m\u001b[38;5;28;43mself\u001b[39;49m\u001b[38;5;241;43m.\u001b[39;49m\u001b[43msubsample\u001b[49m\u001b[43m)\u001b[49m\n\u001b[1;32m    240\u001b[0m x \u001b[38;5;241m=\u001b[39m x[:,:, \u001b[38;5;241m-\u001b[39m\u001b[38;5;28mself\u001b[39m\u001b[38;5;241m.\u001b[39mn_coefficients:,:,:]\n\u001b[1;32m    241\u001b[0m x \u001b[38;5;241m=\u001b[39m x\u001b[38;5;241m.\u001b[39mreshape(x\u001b[38;5;241m.\u001b[39msize(\u001b[38;5;241m0\u001b[39m), \u001b[38;5;28mself\u001b[39m\u001b[38;5;241m.\u001b[39mn_coefficients\u001b[38;5;241m*\u001b[39m\u001b[38;5;28mself\u001b[39m\u001b[38;5;241m.\u001b[39mchannels, x\u001b[38;5;241m.\u001b[39msize(\u001b[38;5;241m3\u001b[39m), x\u001b[38;5;241m.\u001b[39msize(\u001b[38;5;241m4\u001b[39m))\n",
      "File \u001b[0;32m~/.local/lib/python3.8/site-packages/sn_camels-0.0.1-py3.8.egg/sn_camels/scattering/scattering2d.py:136\u001b[0m, in \u001b[0;36mconvolve_fields\u001b[0;34m(input, backend, J, phi, wavelets, max_order, split_filters, subsample)\u001b[0m\n\u001b[1;32m    132\u001b[0m signal_shape \u001b[38;5;241m=\u001b[39m \u001b[38;5;28minput\u001b[39m\u001b[38;5;241m.\u001b[39mshape[\u001b[38;5;241m-\u001b[39m\u001b[38;5;241m2\u001b[39m:]\n\u001b[1;32m    134\u001b[0m \u001b[38;5;28minput\u001b[39m \u001b[38;5;241m=\u001b[39m \u001b[38;5;28minput\u001b[39m\u001b[38;5;241m.\u001b[39mreshape((\u001b[38;5;241m-\u001b[39m\u001b[38;5;241m1\u001b[39m,) \u001b[38;5;241m+\u001b[39m signal_shape)\n\u001b[0;32m--> 136\u001b[0m S \u001b[38;5;241m=\u001b[39m \u001b[43mdo_convolutions\u001b[49m\u001b[43m(\u001b[49m\u001b[38;5;28;43minput\u001b[39;49m\u001b[43m,\u001b[49m\u001b[43m \u001b[49m\u001b[43mbackend\u001b[49m\u001b[43m,\u001b[49m\u001b[43m \u001b[49m\u001b[43mJ\u001b[49m\u001b[43m,\u001b[49m\u001b[43m \u001b[49m\u001b[43mphi\u001b[49m\u001b[43m,\u001b[49m\u001b[43m \u001b[49m\u001b[43mwavelets\u001b[49m\u001b[43m,\u001b[49m\n\u001b[1;32m    137\u001b[0m \u001b[43m                    \u001b[49m\u001b[43mmax_order\u001b[49m\u001b[43m,\u001b[49m\u001b[43m \u001b[49m\u001b[43msplit_filters\u001b[49m\u001b[43m,\u001b[49m\u001b[43m \u001b[49m\u001b[43msubsample\u001b[49m\u001b[43m)\u001b[49m\n\u001b[1;32m    139\u001b[0m \u001b[38;5;66;03m## S will always be a numpy array\u001b[39;00m\n\u001b[1;32m    140\u001b[0m scattering_shape \u001b[38;5;241m=\u001b[39m S\u001b[38;5;241m.\u001b[39mshape[\u001b[38;5;241m-\u001b[39m\u001b[38;5;241m3\u001b[39m:]\n",
      "File \u001b[0;32m~/.local/lib/python3.8/site-packages/sn_camels-0.0.1-py3.8.egg/sn_camels/scattering/scattering2d.py:29\u001b[0m, in \u001b[0;36mdo_convolutions\u001b[0;34m(x, backend, J, phi, wavelets, max_order, split_filters, subsample)\u001b[0m\n\u001b[1;32m     26\u001b[0m U_0_c \u001b[38;5;241m=\u001b[39m fft(complex_maps, \u001b[38;5;124m'\u001b[39m\u001b[38;5;124mC2C\u001b[39m\u001b[38;5;124m'\u001b[39m)\n\u001b[1;32m     28\u001b[0m \u001b[38;5;66;03m# First low pass filter\u001b[39;00m\n\u001b[0;32m---> 29\u001b[0m U_1_c \u001b[38;5;241m=\u001b[39m \u001b[43mcdgmm\u001b[49m\u001b[43m(\u001b[49m\u001b[43mU_0_c\u001b[49m\u001b[43m,\u001b[49m\u001b[43m \u001b[49m\u001b[43mphi\u001b[49m\u001b[43m[\u001b[49m\u001b[38;5;241;43m0\u001b[39;49m\u001b[43m]\u001b[49m\u001b[43m)\u001b[49m\n\u001b[1;32m     30\u001b[0m U_1_c \u001b[38;5;241m=\u001b[39m subsample_fourier(U_1_c, k\u001b[38;5;241m=\u001b[39msubsample)\n\u001b[1;32m     33\u001b[0m S_0 \u001b[38;5;241m=\u001b[39m fft(U_1_c, \u001b[38;5;124m'\u001b[39m\u001b[38;5;124mC2R\u001b[39m\u001b[38;5;124m'\u001b[39m, inverse\u001b[38;5;241m=\u001b[39m\u001b[38;5;28;01mTrue\u001b[39;00m)\n",
      "File \u001b[0;32m~/.local/lib/python3.8/site-packages/sn_camels-0.0.1-py3.8.egg/sn_camels/scattering/torch_backend.py:240\u001b[0m, in \u001b[0;36mcdgmm\u001b[0;34m(A, B, inplace)\u001b[0m\n\u001b[1;32m    213\u001b[0m \u001b[38;5;124;03m\"\"\"Complex pointwise multiplication.\u001b[39;00m\n\u001b[1;32m    214\u001b[0m \u001b[38;5;124;03m    Complex pointwise multiplication between (batched) tensor A and tensor B.\u001b[39;00m\n\u001b[1;32m    215\u001b[0m \u001b[38;5;124;03m    Parameters\u001b[39;00m\n\u001b[0;32m   (...)\u001b[0m\n\u001b[1;32m    237\u001b[0m \u001b[38;5;124;03m        C[b, c, m, n, :] = A[b, c, m, n, :] * B[m, n, :].\u001b[39;00m\n\u001b[1;32m    238\u001b[0m \u001b[38;5;124;03m\"\"\"\u001b[39;00m\n\u001b[1;32m    239\u001b[0m \u001b[38;5;28;01mif\u001b[39;00m \u001b[38;5;129;01mnot\u001b[39;00m _is_real(B):\n\u001b[0;32m--> 240\u001b[0m     \u001b[43mtype_checks\u001b[49m\u001b[43m(\u001b[49m\u001b[43mB\u001b[49m\u001b[43m)\u001b[49m\n\u001b[1;32m    241\u001b[0m \u001b[38;5;28;01melse\u001b[39;00m:\n\u001b[1;32m    242\u001b[0m     \u001b[38;5;28;01mif\u001b[39;00m \u001b[38;5;129;01mnot\u001b[39;00m B\u001b[38;5;241m.\u001b[39mis_contiguous():\n",
      "File \u001b[0;32m~/.local/lib/python3.8/site-packages/sn_camels-0.0.1-py3.8.egg/sn_camels/scattering/torch_backend.py:207\u001b[0m, in \u001b[0;36mtype_checks\u001b[0;34m(x)\u001b[0m\n\u001b[1;32m    205\u001b[0m \u001b[38;5;28;01mdef\u001b[39;00m \u001b[38;5;21mtype_checks\u001b[39m(x):\n\u001b[1;32m    206\u001b[0m     \u001b[38;5;28;01mif\u001b[39;00m \u001b[38;5;129;01mnot\u001b[39;00m _is_complex(x):\n\u001b[0;32m--> 207\u001b[0m         \u001b[38;5;28;01mraise\u001b[39;00m \u001b[38;5;167;01mTypeError\u001b[39;00m(\u001b[38;5;124m'\u001b[39m\u001b[38;5;124mThe input should be complex (i.e. last dimension is 2).\u001b[39m\u001b[38;5;124m'\u001b[39m)\n\u001b[1;32m    209\u001b[0m     \u001b[38;5;28;01mif\u001b[39;00m \u001b[38;5;129;01mnot\u001b[39;00m x\u001b[38;5;241m.\u001b[39mis_contiguous():\n\u001b[1;32m    210\u001b[0m         \u001b[38;5;28;01mraise\u001b[39;00m \u001b[38;5;167;01mRuntimeError\u001b[39;00m(\u001b[38;5;124m'\u001b[39m\u001b[38;5;124mTensors must be contiguous.\u001b[39m\u001b[38;5;124m'\u001b[39m)\n",
      "\u001b[0;31mTypeError\u001b[0m: The input should be complex (i.e. last dimension is 2)."
     ]
    }
   ],
   "source": [
    "## Check that we produce the correct shape\n",
    "scatteringBase.forward(x).shape"
   ]
  },
  {
   "cell_type": "code",
   "execution_count": null,
   "metadata": {},
   "outputs": [],
   "source": [
    "scatteringBase.backend.fft(x)"
   ]
  },
  {
   "cell_type": "code",
   "execution_count": null,
   "metadata": {},
   "outputs": [],
   "source": [
    "complex_maps = x.new_zeros(x.shape + (2,))\n",
    "complex_maps[..., 0] = x\n",
    "scatteringBase.backend.fft(complex_maps).shape"
   ]
  },
  {
   "cell_type": "code",
   "execution_count": null,
   "metadata": {},
   "outputs": [],
   "source": [
    "scatteringBase.phi[0].shape\n",
    "\n",
    "## THE KYMATIO PHI GETS RESHAPED TO (256,256,1), WHICH IS CAUSING THE ISSUES"
   ]
  },
  {
   "cell_type": "code",
   "execution_count": null,
   "metadata": {},
   "outputs": [],
   "source": []
  },
  {
   "cell_type": "code",
   "execution_count": null,
   "metadata": {},
   "outputs": [],
   "source": [
    "filter_1=2\n",
    "filter_2=5\n",
    "order2_index=17+filter_1*16+filter_2\n",
    "\n",
    "cdm_map_num=7 # between 0 and 10"
   ]
  },
  {
   "cell_type": "code",
   "execution_count": null,
   "metadata": {},
   "outputs": [],
   "source": [
    "plt.figure(figsize=(32,22))\n",
    "plt.subplot(1, 3, 1)\n",
    "plt.title(\"Original field\")\n",
    "plt.imshow(np.log10(maps[cdm_map_num]))\n",
    "plt.subplot(1, 3, 2)\n",
    "plt.title(\"Wavelet filter\")\n",
    "plt.imshow(np.fft.fftshift(np.fft.ifft2(scatteringBase.scattering.psi[filter_1][0].squeeze().cpu().detach().numpy())).real)\n",
    "plt.subplot(1, 3, 3)\n",
    "plt.title(\"First order convolved field\")\n",
    "plt.imshow(np.log10(out[cdm_map_num][filter_1+1]))\n",
    "plt.figure(figsize=(32,22))\n",
    "plt.subplot(1, 3, 1)\n",
    "plt.title(\"Original field\")\n",
    "plt.imshow(np.log10(maps[cdm_map_num]))\n",
    "plt.subplot(1, 3, 2)\n",
    "plt.title(\"Wavelet filter\")\n",
    "plt.imshow(np.fft.fftshift(np.fft.ifft2(scatteringBase.scattering.psi[filter_2][0].squeeze().cpu().detach().numpy())).real)\n",
    "plt.subplot(1, 3, 3)\n",
    "plt.title(\"First order convolved field\")\n",
    "plt.imshow(np.log10(out[cdm_map_num][filter_2+1]))"
   ]
  },
  {
   "cell_type": "code",
   "execution_count": null,
   "metadata": {},
   "outputs": [],
   "source": [
    "plt.figure(figsize=(32,22))\n",
    "plt.subplot(1, 3, 1)\n",
    "plt.title(\"First order 1 field\")\n",
    "plt.imshow(np.log10(out[cdm_map_num][filter_1+1]))\n",
    "plt.subplot(1, 3, 2)\n",
    "plt.title(\"First order 2 field\")\n",
    "plt.imshow(np.log10(out[cdm_map_num][filter_2+1]))\n",
    "plt.subplot(1, 3, 3)\n",
    "plt.title(\"Second order field\")\n",
    "plt.imshow(np.log10(out[cdm_map_num][order2_index]))"
   ]
  },
  {
   "cell_type": "code",
   "execution_count": null,
   "metadata": {},
   "outputs": [],
   "source": [
    "scatteringBase.scattering.out_type"
   ]
  },
  {
   "cell_type": "code",
   "execution_count": null,
   "metadata": {},
   "outputs": [],
   "source": []
  }
 ],
 "metadata": {
  "kernelspec": {
   "display_name": "Python 3 (ipykernel)",
   "language": "python",
   "name": "python3"
  },
  "language_info": {
   "codemirror_mode": {
    "name": "ipython",
    "version": 3
   },
   "file_extension": ".py",
   "mimetype": "text/x-python",
   "name": "python",
   "nbconvert_exporter": "python",
   "pygments_lexer": "ipython3",
   "version": "3.8.10"
  }
 },
 "nbformat": 4,
 "nbformat_minor": 4
}
